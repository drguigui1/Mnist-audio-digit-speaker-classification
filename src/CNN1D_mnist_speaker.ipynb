{
 "cells": [
  {
   "cell_type": "code",
   "execution_count": 1,
   "metadata": {
    "colab": {
     "base_uri": "https://localhost:8080/",
     "height": 34
    },
    "colab_type": "code",
    "id": "l-99GVZyTsJB",
    "outputId": "7bc5861c-d8e7-412e-fdc4-43795fa9b807"
   },
   "outputs": [
    {
     "name": "stdout",
     "output_type": "stream",
     "text": [
      "Drive already mounted at /content/drive; to attempt to forcibly remount, call drive.mount(\"/content/drive\", force_remount=True).\n"
     ]
    }
   ],
   "source": [
    "from google.colab import drive\n",
    "drive.mount('/content/drive')"
   ]
  },
  {
   "cell_type": "code",
   "execution_count": 0,
   "metadata": {
    "colab": {},
    "colab_type": "code",
    "id": "AkMsQdygUY3E"
   },
   "outputs": [],
   "source": [
    "import numpy as np\n",
    "\n",
    "import librosa as lr\n",
    "\n",
    "from tensorflow.keras.models import Sequential\n",
    "from tensorflow.keras.layers import Dense, Conv1D, MaxPooling1D, Flatten, Dropout, BatchNormalization\n",
    "from tensorflow.keras.optimizers import Adam\n",
    "from tensorflow.keras import regularizers\n",
    "import tensorflow as tf\n",
    "\n",
    "from glob import glob\n",
    "\n",
    "import matplotlib.pyplot as plt\n",
    "\n",
    "import cv2\n",
    "\n",
    "from sklearn.model_selection import train_test_split"
   ]
  },
  {
   "cell_type": "code",
   "execution_count": 0,
   "metadata": {
    "colab": {},
    "colab_type": "code",
    "id": "uVs6E-LyuAje"
   },
   "outputs": [],
   "source": [
    "def load_data_spectrum(path, m=26):\n",
    "  '''\n",
    "  Load data from file\n",
    "  Extract filter banks\n",
    "  return: X_train, y_train, X_test, y_test\n",
    "  '''\n",
    "  files = glob(path)\n",
    "  speakers = ['jackson', 'nicolas', 'theo', 'yweweler']\n",
    "  X, y = np.zeros((2000, 128, m)), np.zeros(2000)\n",
    "\n",
    "  for idx, file_path in enumerate(files):\n",
    "    ## load signal\n",
    "    signal, rate = lr.load(file_path)\n",
    "\n",
    "    ## extract fbanks\n",
    "    fbank = lr.feature.melspectrogram(y=signal, sr=rate)\n",
    "\n",
    "    ## rescale fbanks\n",
    "    fbank = cv2.resize(fbank, (m, 128), interpolation=cv2.INTER_AREA)\n",
    "\n",
    "    ## get label\n",
    "    file_name = file_path.split('/')[-1] ## get the file name\n",
    "    speaker_name = file_name.split('_')[1] ## get the speaker name\n",
    "    label = speakers.index(speaker_name) ## get the label \n",
    "\n",
    "    if idx % 100 == 0:\n",
    "      print(\"Filter Banks data nb {} extracted\".format(idx))\n",
    "    ## update X and y\n",
    "    X[idx] = fbank\n",
    "    y[idx] = label\n",
    "    \n",
    "  ## split in training and testing set\n",
    "  X_train, X_test, y_train, y_test = train_test_split(X, y, test_size=0.2, shuffle=True)\n",
    "\n",
    "  return X_train, y_train, X_test, y_test"
   ]
  },
  {
   "cell_type": "code",
   "execution_count": 39,
   "metadata": {
    "colab": {
     "base_uri": "https://localhost:8080/",
     "height": 364
    },
    "colab_type": "code",
    "id": "Io3eCpTju8LR",
    "outputId": "87e3813d-3b4d-4f52-904e-ab24fcf1d63d"
   },
   "outputs": [
    {
     "name": "stdout",
     "output_type": "stream",
     "text": [
      "Filter Banks data nb 0 extracted\n",
      "Filter Banks data nb 100 extracted\n",
      "Filter Banks data nb 200 extracted\n",
      "Filter Banks data nb 300 extracted\n",
      "Filter Banks data nb 400 extracted\n",
      "Filter Banks data nb 500 extracted\n",
      "Filter Banks data nb 600 extracted\n",
      "Filter Banks data nb 700 extracted\n",
      "Filter Banks data nb 800 extracted\n",
      "Filter Banks data nb 900 extracted\n",
      "Filter Banks data nb 1000 extracted\n",
      "Filter Banks data nb 1100 extracted\n",
      "Filter Banks data nb 1200 extracted\n",
      "Filter Banks data nb 1300 extracted\n",
      "Filter Banks data nb 1400 extracted\n",
      "Filter Banks data nb 1500 extracted\n",
      "Filter Banks data nb 1600 extracted\n",
      "Filter Banks data nb 1700 extracted\n",
      "Filter Banks data nb 1800 extracted\n",
      "Filter Banks data nb 1900 extracted\n"
     ]
    }
   ],
   "source": [
    "path = '/content/drive/My Drive/free-spoken-digit-dataset/recordings/*.wav'\n",
    "X_train, y_train, X_test, y_test = load_data_spectrum(path)"
   ]
  },
  {
   "cell_type": "code",
   "execution_count": 0,
   "metadata": {
    "colab": {},
    "colab_type": "code",
    "id": "VFaQjywscKp-"
   },
   "outputs": [],
   "source": [
    "nb_data_tr, dim, time_step = X_train.shape\n",
    "nb_data_te, _, _ = X_test.shape"
   ]
  },
  {
   "cell_type": "code",
   "execution_count": 41,
   "metadata": {
    "colab": {
     "base_uri": "https://localhost:8080/",
     "height": 52
    },
    "colab_type": "code",
    "id": "44yhzwIVURX_",
    "outputId": "29e1d392-9cc4-44bd-fa55-2cfe9f0ac876"
   },
   "outputs": [
    {
     "name": "stdout",
     "output_type": "stream",
     "text": [
      "(1600, 128, 26)\n",
      "(400, 128, 26)\n"
     ]
    }
   ],
   "source": [
    "print(X_train.shape)\n",
    "print(X_test.shape)"
   ]
  },
  {
   "cell_type": "code",
   "execution_count": 0,
   "metadata": {
    "colab": {},
    "colab_type": "code",
    "id": "1I7jha9YcGz9"
   },
   "outputs": [],
   "source": [
    "X_train = np.reshape(X_train, (nb_data_tr, time_step, dim))\n",
    "X_test = np.reshape(X_test, (nb_data_te, time_step, dim))"
   ]
  },
  {
   "cell_type": "code",
   "execution_count": 47,
   "metadata": {
    "colab": {
     "base_uri": "https://localhost:8080/",
     "height": 52
    },
    "colab_type": "code",
    "id": "0NN3CpHidgPy",
    "outputId": "d9e8b44b-4234-4d5e-80cc-e06a45480aca"
   },
   "outputs": [
    {
     "name": "stdout",
     "output_type": "stream",
     "text": [
      "(1600, 26, 128)\n",
      "(400, 26, 128)\n"
     ]
    }
   ],
   "source": [
    "print(X_train.shape)\n",
    "print(X_test.shape)"
   ]
  },
  {
   "cell_type": "code",
   "execution_count": 0,
   "metadata": {
    "colab": {},
    "colab_type": "code",
    "id": "WoOQ2cjUyc86"
   },
   "outputs": [],
   "source": [
    "## create our model\n",
    "\n",
    "model = Sequential()\n",
    "\n",
    "model.add(Conv1D(filters=64, kernel_size=3, activation='relu', input_shape=[time_step, dim]))\n",
    "model.add(MaxPooling1D(2))\n",
    "\n",
    "model.add(Conv1D(filters=64, kernel_size=3, activation='relu'))\n",
    "model.add(BatchNormalization())\n",
    "model.add(MaxPooling1D(2))\n",
    "\n",
    "model.add(Flatten())\n",
    "\n",
    "model.add(Dense(64, activation='relu'))\n",
    "model.add(BatchNormalization())\n",
    "model.add(Dropout(0.3))\n",
    "\n",
    "model.add(Dense(4, activation='softmax'))"
   ]
  },
  {
   "cell_type": "code",
   "execution_count": 97,
   "metadata": {
    "colab": {
     "base_uri": "https://localhost:8080/",
     "height": 503
    },
    "colab_type": "code",
    "id": "u2YpCDmXDMEU",
    "outputId": "19a1212f-1b83-4672-a6c6-bd10d14cc446"
   },
   "outputs": [
    {
     "name": "stdout",
     "output_type": "stream",
     "text": [
      "Model: \"sequential_21\"\n",
      "_________________________________________________________________\n",
      "Layer (type)                 Output Shape              Param #   \n",
      "=================================================================\n",
      "conv1d_51 (Conv1D)           (None, 24, 64)            24640     \n",
      "_________________________________________________________________\n",
      "max_pooling1d_39 (MaxPooling (None, 12, 64)            0         \n",
      "_________________________________________________________________\n",
      "conv1d_52 (Conv1D)           (None, 10, 64)            12352     \n",
      "_________________________________________________________________\n",
      "batch_normalization_41 (Batc (None, 10, 64)            256       \n",
      "_________________________________________________________________\n",
      "max_pooling1d_40 (MaxPooling (None, 5, 64)             0         \n",
      "_________________________________________________________________\n",
      "flatten_17 (Flatten)         (None, 320)               0         \n",
      "_________________________________________________________________\n",
      "dense_34 (Dense)             (None, 64)                20544     \n",
      "_________________________________________________________________\n",
      "batch_normalization_42 (Batc (None, 64)                256       \n",
      "_________________________________________________________________\n",
      "dropout_16 (Dropout)         (None, 64)                0         \n",
      "_________________________________________________________________\n",
      "dense_35 (Dense)             (None, 4)                 260       \n",
      "=================================================================\n",
      "Total params: 58,308\n",
      "Trainable params: 58,052\n",
      "Non-trainable params: 256\n",
      "_________________________________________________________________\n"
     ]
    }
   ],
   "source": [
    "model.summary()"
   ]
  },
  {
   "cell_type": "code",
   "execution_count": 0,
   "metadata": {
    "colab": {},
    "colab_type": "code",
    "id": "THjs2UB9Wtli"
   },
   "outputs": [],
   "source": [
    "adm = Adam(lr=0.001)\n",
    "model.compile(optimizer=adm, loss='sparse_categorical_crossentropy', metrics=['acc'])"
   ]
  },
  {
   "cell_type": "code",
   "execution_count": 99,
   "metadata": {
    "colab": {
     "base_uri": "https://localhost:8080/",
     "height": 1000
    },
    "colab_type": "code",
    "id": "HpnUuP4yZ-J0",
    "outputId": "cd7b85bf-ee6d-43ce-e6a8-d4b2a9dbf650"
   },
   "outputs": [
    {
     "name": "stdout",
     "output_type": "stream",
     "text": [
      "Epoch 1/100\n",
      "25/25 [==============================] - 0s 17ms/step - loss: 0.9478 - acc: 0.5725 - val_loss: 1.5327 - val_acc: 0.4400\n",
      "Epoch 2/100\n",
      "25/25 [==============================] - 0s 13ms/step - loss: 0.6863 - acc: 0.7150 - val_loss: 1.1511 - val_acc: 0.5050\n",
      "Epoch 3/100\n",
      "25/25 [==============================] - 0s 13ms/step - loss: 0.5607 - acc: 0.7725 - val_loss: 0.9390 - val_acc: 0.5850\n",
      "Epoch 4/100\n",
      "25/25 [==============================] - 0s 13ms/step - loss: 0.4431 - acc: 0.8394 - val_loss: 0.7136 - val_acc: 0.7150\n",
      "Epoch 5/100\n",
      "25/25 [==============================] - 0s 14ms/step - loss: 0.3828 - acc: 0.8512 - val_loss: 0.6838 - val_acc: 0.7225\n",
      "Epoch 6/100\n",
      "25/25 [==============================] - 0s 13ms/step - loss: 0.3337 - acc: 0.8725 - val_loss: 0.6106 - val_acc: 0.7175\n",
      "Epoch 7/100\n",
      "25/25 [==============================] - 0s 13ms/step - loss: 0.2946 - acc: 0.8900 - val_loss: 0.5927 - val_acc: 0.7275\n",
      "Epoch 8/100\n",
      "25/25 [==============================] - 0s 14ms/step - loss: 0.2560 - acc: 0.9087 - val_loss: 0.5453 - val_acc: 0.7425\n",
      "Epoch 9/100\n",
      "25/25 [==============================] - 0s 14ms/step - loss: 0.2301 - acc: 0.9156 - val_loss: 0.5661 - val_acc: 0.7450\n",
      "Epoch 10/100\n",
      "25/25 [==============================] - 0s 13ms/step - loss: 0.2173 - acc: 0.9206 - val_loss: 0.4796 - val_acc: 0.7550\n",
      "Epoch 11/100\n",
      "25/25 [==============================] - 0s 13ms/step - loss: 0.1883 - acc: 0.9331 - val_loss: 0.4721 - val_acc: 0.7500\n",
      "Epoch 12/100\n",
      "25/25 [==============================] - 0s 13ms/step - loss: 0.1727 - acc: 0.9369 - val_loss: 0.4807 - val_acc: 0.7500\n",
      "Epoch 13/100\n",
      "25/25 [==============================] - 0s 13ms/step - loss: 0.1394 - acc: 0.9481 - val_loss: 0.4805 - val_acc: 0.7475\n",
      "Epoch 14/100\n",
      "25/25 [==============================] - 0s 14ms/step - loss: 0.1300 - acc: 0.9594 - val_loss: 0.4899 - val_acc: 0.7525\n",
      "Epoch 15/100\n",
      "25/25 [==============================] - 0s 13ms/step - loss: 0.1197 - acc: 0.9600 - val_loss: 0.4806 - val_acc: 0.7500\n",
      "Epoch 16/100\n",
      "25/25 [==============================] - 0s 13ms/step - loss: 0.1055 - acc: 0.9644 - val_loss: 0.3637 - val_acc: 0.7725\n",
      "Epoch 17/100\n",
      "25/25 [==============================] - 0s 13ms/step - loss: 0.1000 - acc: 0.9656 - val_loss: 0.2845 - val_acc: 0.9175\n",
      "Epoch 18/100\n",
      "25/25 [==============================] - 0s 13ms/step - loss: 0.0836 - acc: 0.9787 - val_loss: 0.4457 - val_acc: 0.7475\n",
      "Epoch 19/100\n",
      "25/25 [==============================] - 0s 14ms/step - loss: 0.0667 - acc: 0.9812 - val_loss: 0.3687 - val_acc: 0.7650\n",
      "Epoch 20/100\n",
      "25/25 [==============================] - 0s 13ms/step - loss: 0.0684 - acc: 0.9850 - val_loss: 0.3479 - val_acc: 0.7800\n",
      "Epoch 21/100\n",
      "25/25 [==============================] - 0s 13ms/step - loss: 0.0551 - acc: 0.9856 - val_loss: 0.5055 - val_acc: 0.7600\n",
      "Epoch 22/100\n",
      "25/25 [==============================] - 0s 13ms/step - loss: 0.0606 - acc: 0.9806 - val_loss: 0.2976 - val_acc: 0.8525\n",
      "Epoch 23/100\n",
      "25/25 [==============================] - 0s 14ms/step - loss: 0.0570 - acc: 0.9862 - val_loss: 0.1926 - val_acc: 0.9225\n",
      "Epoch 24/100\n",
      "25/25 [==============================] - 0s 12ms/step - loss: 0.0373 - acc: 0.9912 - val_loss: 0.1482 - val_acc: 0.9400\n",
      "Epoch 25/100\n",
      "25/25 [==============================] - 0s 13ms/step - loss: 0.0501 - acc: 0.9850 - val_loss: 0.2008 - val_acc: 0.9200\n",
      "Epoch 26/100\n",
      "25/25 [==============================] - 0s 12ms/step - loss: 0.0484 - acc: 0.9862 - val_loss: 0.1960 - val_acc: 0.9200\n",
      "Epoch 27/100\n",
      "25/25 [==============================] - 0s 12ms/step - loss: 0.0330 - acc: 0.9894 - val_loss: 0.1274 - val_acc: 0.9400\n",
      "Epoch 28/100\n",
      "25/25 [==============================] - 0s 13ms/step - loss: 0.0413 - acc: 0.9887 - val_loss: 0.1777 - val_acc: 0.9225\n",
      "Epoch 29/100\n",
      "25/25 [==============================] - 0s 13ms/step - loss: 0.0422 - acc: 0.9900 - val_loss: 0.1753 - val_acc: 0.9225\n",
      "Epoch 30/100\n",
      "25/25 [==============================] - 0s 12ms/step - loss: 0.0347 - acc: 0.9912 - val_loss: 0.1700 - val_acc: 0.9350\n",
      "Epoch 31/100\n",
      "25/25 [==============================] - 0s 12ms/step - loss: 0.0290 - acc: 0.9919 - val_loss: 0.1461 - val_acc: 0.9350\n",
      "Epoch 32/100\n",
      "25/25 [==============================] - 0s 13ms/step - loss: 0.0268 - acc: 0.9925 - val_loss: 0.1632 - val_acc: 0.9300\n",
      "Epoch 33/100\n",
      "25/25 [==============================] - 0s 13ms/step - loss: 0.0347 - acc: 0.9906 - val_loss: 0.1607 - val_acc: 0.9425\n",
      "Epoch 34/100\n",
      "25/25 [==============================] - 0s 12ms/step - loss: 0.0249 - acc: 0.9931 - val_loss: 0.2428 - val_acc: 0.9100\n",
      "Epoch 35/100\n",
      "25/25 [==============================] - 0s 13ms/step - loss: 0.0221 - acc: 0.9950 - val_loss: 0.1313 - val_acc: 0.9425\n",
      "Epoch 36/100\n",
      "25/25 [==============================] - 0s 12ms/step - loss: 0.0170 - acc: 0.9975 - val_loss: 0.1361 - val_acc: 0.9475\n",
      "Epoch 37/100\n",
      "25/25 [==============================] - 0s 12ms/step - loss: 0.0183 - acc: 0.9937 - val_loss: 0.1410 - val_acc: 0.9450\n",
      "Epoch 38/100\n",
      "25/25 [==============================] - 0s 13ms/step - loss: 0.0110 - acc: 0.9981 - val_loss: 0.1549 - val_acc: 0.9475\n",
      "Epoch 39/100\n",
      "25/25 [==============================] - 0s 12ms/step - loss: 0.0154 - acc: 0.9969 - val_loss: 0.1679 - val_acc: 0.9500\n",
      "Epoch 40/100\n",
      "25/25 [==============================] - 0s 13ms/step - loss: 0.0137 - acc: 0.9975 - val_loss: 0.1614 - val_acc: 0.9475\n",
      "Epoch 41/100\n",
      "25/25 [==============================] - 0s 13ms/step - loss: 0.0108 - acc: 0.9987 - val_loss: 0.1523 - val_acc: 0.9450\n",
      "Epoch 42/100\n",
      "25/25 [==============================] - 0s 13ms/step - loss: 0.0135 - acc: 0.9975 - val_loss: 0.1496 - val_acc: 0.9425\n",
      "Epoch 43/100\n",
      "25/25 [==============================] - 0s 12ms/step - loss: 0.0156 - acc: 0.9962 - val_loss: 0.1645 - val_acc: 0.9325\n",
      "Epoch 44/100\n",
      "25/25 [==============================] - 0s 13ms/step - loss: 0.0105 - acc: 0.9981 - val_loss: 0.1615 - val_acc: 0.9425\n",
      "Epoch 45/100\n",
      "25/25 [==============================] - 0s 13ms/step - loss: 0.0058 - acc: 1.0000 - val_loss: 0.1483 - val_acc: 0.9425\n",
      "Epoch 46/100\n",
      "25/25 [==============================] - 0s 13ms/step - loss: 0.0127 - acc: 0.9969 - val_loss: 0.1749 - val_acc: 0.9300\n",
      "Epoch 47/100\n",
      "25/25 [==============================] - 0s 13ms/step - loss: 0.0117 - acc: 0.9975 - val_loss: 0.6221 - val_acc: 0.9225\n",
      "Epoch 48/100\n",
      "25/25 [==============================] - 0s 13ms/step - loss: 0.0198 - acc: 0.9931 - val_loss: 0.1719 - val_acc: 0.9475\n",
      "Epoch 49/100\n",
      "25/25 [==============================] - 0s 13ms/step - loss: 0.0195 - acc: 0.9950 - val_loss: 0.1376 - val_acc: 0.9450\n",
      "Epoch 50/100\n",
      "25/25 [==============================] - 0s 13ms/step - loss: 0.0235 - acc: 0.9925 - val_loss: 0.1664 - val_acc: 0.9425\n",
      "Epoch 51/100\n",
      "25/25 [==============================] - 0s 13ms/step - loss: 0.0229 - acc: 0.9944 - val_loss: 0.1632 - val_acc: 0.9550\n",
      "Epoch 52/100\n",
      "25/25 [==============================] - 0s 13ms/step - loss: 0.0203 - acc: 0.9931 - val_loss: 0.2228 - val_acc: 0.9250\n",
      "Epoch 53/100\n",
      "25/25 [==============================] - 0s 13ms/step - loss: 0.0201 - acc: 0.9950 - val_loss: 0.1544 - val_acc: 0.9450\n",
      "Epoch 54/100\n",
      "25/25 [==============================] - 0s 14ms/step - loss: 0.0142 - acc: 0.9969 - val_loss: 0.1414 - val_acc: 0.9525\n",
      "Epoch 55/100\n",
      "25/25 [==============================] - 0s 12ms/step - loss: 0.0124 - acc: 0.9962 - val_loss: 0.1594 - val_acc: 0.9525\n",
      "Epoch 56/100\n",
      "25/25 [==============================] - 0s 13ms/step - loss: 0.0120 - acc: 0.9969 - val_loss: 0.1317 - val_acc: 0.9400\n",
      "Epoch 57/100\n",
      "25/25 [==============================] - 0s 12ms/step - loss: 0.0136 - acc: 0.9969 - val_loss: 0.2628 - val_acc: 0.9325\n",
      "Epoch 58/100\n",
      "25/25 [==============================] - 0s 13ms/step - loss: 0.0104 - acc: 0.9975 - val_loss: 0.2086 - val_acc: 0.9425\n",
      "Epoch 59/100\n",
      "25/25 [==============================] - 0s 13ms/step - loss: 0.0084 - acc: 0.9987 - val_loss: 0.1755 - val_acc: 0.9525\n",
      "Epoch 60/100\n",
      "25/25 [==============================] - 0s 13ms/step - loss: 0.0081 - acc: 0.9994 - val_loss: 0.1681 - val_acc: 0.9450\n",
      "Epoch 61/100\n",
      "25/25 [==============================] - 0s 13ms/step - loss: 0.0077 - acc: 0.9975 - val_loss: 0.1653 - val_acc: 0.9425\n",
      "Epoch 62/100\n",
      "25/25 [==============================] - 0s 13ms/step - loss: 0.0043 - acc: 1.0000 - val_loss: 0.1896 - val_acc: 0.9450\n",
      "Epoch 63/100\n",
      "25/25 [==============================] - 0s 13ms/step - loss: 0.0049 - acc: 0.9994 - val_loss: 0.1667 - val_acc: 0.9450\n",
      "Epoch 64/100\n",
      "25/25 [==============================] - 0s 13ms/step - loss: 0.0095 - acc: 0.9975 - val_loss: 0.1597 - val_acc: 0.9450\n",
      "Epoch 65/100\n",
      "25/25 [==============================] - 0s 13ms/step - loss: 0.0055 - acc: 0.9987 - val_loss: 0.1591 - val_acc: 0.9400\n",
      "Epoch 66/100\n",
      "25/25 [==============================] - 0s 13ms/step - loss: 0.0062 - acc: 0.9987 - val_loss: 0.1493 - val_acc: 0.9550\n",
      "Epoch 67/100\n",
      "25/25 [==============================] - 0s 13ms/step - loss: 0.0085 - acc: 0.9987 - val_loss: 0.1464 - val_acc: 0.9550\n",
      "Epoch 68/100\n",
      "25/25 [==============================] - 0s 13ms/step - loss: 0.0027 - acc: 1.0000 - val_loss: 0.1318 - val_acc: 0.9625\n",
      "Epoch 69/100\n",
      "25/25 [==============================] - 0s 13ms/step - loss: 0.0045 - acc: 1.0000 - val_loss: 0.1362 - val_acc: 0.9600\n",
      "Epoch 70/100\n",
      "25/25 [==============================] - 0s 12ms/step - loss: 0.0026 - acc: 1.0000 - val_loss: 0.1478 - val_acc: 0.9550\n",
      "Epoch 71/100\n",
      "25/25 [==============================] - 0s 13ms/step - loss: 0.0024 - acc: 0.9994 - val_loss: 0.1278 - val_acc: 0.9625\n",
      "Epoch 72/100\n",
      "25/25 [==============================] - 0s 12ms/step - loss: 0.0033 - acc: 0.9994 - val_loss: 0.1365 - val_acc: 0.9575\n",
      "Epoch 73/100\n",
      "25/25 [==============================] - 0s 12ms/step - loss: 0.0026 - acc: 0.9994 - val_loss: 0.1229 - val_acc: 0.9625\n",
      "Epoch 74/100\n",
      "25/25 [==============================] - 0s 13ms/step - loss: 0.0018 - acc: 1.0000 - val_loss: 0.1249 - val_acc: 0.9675\n",
      "Epoch 75/100\n",
      "25/25 [==============================] - 0s 13ms/step - loss: 0.0028 - acc: 0.9987 - val_loss: 0.1411 - val_acc: 0.9500\n",
      "Epoch 76/100\n",
      "25/25 [==============================] - 0s 12ms/step - loss: 0.0244 - acc: 0.9950 - val_loss: 0.2623 - val_acc: 0.9300\n",
      "Epoch 77/100\n",
      "25/25 [==============================] - 0s 14ms/step - loss: 0.0356 - acc: 0.9912 - val_loss: 0.2164 - val_acc: 0.9350\n",
      "Epoch 78/100\n",
      "25/25 [==============================] - 0s 13ms/step - loss: 0.0760 - acc: 0.9825 - val_loss: 0.2246 - val_acc: 0.9400\n",
      "Epoch 79/100\n",
      "25/25 [==============================] - 0s 14ms/step - loss: 0.0245 - acc: 0.9950 - val_loss: 0.2159 - val_acc: 0.9425\n",
      "Epoch 80/100\n",
      "25/25 [==============================] - 0s 13ms/step - loss: 0.0292 - acc: 0.9912 - val_loss: 0.1507 - val_acc: 0.9475\n",
      "Epoch 81/100\n",
      "25/25 [==============================] - 0s 13ms/step - loss: 0.0181 - acc: 0.9950 - val_loss: 0.1454 - val_acc: 0.9525\n",
      "Epoch 82/100\n",
      "25/25 [==============================] - 0s 13ms/step - loss: 0.0094 - acc: 0.9994 - val_loss: 0.1731 - val_acc: 0.9525\n",
      "Epoch 83/100\n",
      "25/25 [==============================] - 0s 13ms/step - loss: 0.0102 - acc: 0.9975 - val_loss: 0.1714 - val_acc: 0.9550\n",
      "Epoch 84/100\n",
      "25/25 [==============================] - 0s 12ms/step - loss: 0.0073 - acc: 0.9987 - val_loss: 0.1373 - val_acc: 0.9625\n",
      "Epoch 85/100\n",
      "25/25 [==============================] - 0s 13ms/step - loss: 0.0043 - acc: 1.0000 - val_loss: 0.1277 - val_acc: 0.9625\n",
      "Epoch 86/100\n",
      "25/25 [==============================] - 0s 14ms/step - loss: 0.0033 - acc: 1.0000 - val_loss: 0.1238 - val_acc: 0.9675\n",
      "Epoch 87/100\n",
      "25/25 [==============================] - 0s 13ms/step - loss: 0.0027 - acc: 1.0000 - val_loss: 0.1275 - val_acc: 0.9650\n",
      "Epoch 88/100\n",
      "25/25 [==============================] - 0s 13ms/step - loss: 0.0026 - acc: 1.0000 - val_loss: 0.1279 - val_acc: 0.9675\n",
      "Epoch 89/100\n",
      "25/25 [==============================] - 0s 13ms/step - loss: 0.0079 - acc: 0.9981 - val_loss: 0.1432 - val_acc: 0.9675\n",
      "Epoch 90/100\n",
      "25/25 [==============================] - 0s 13ms/step - loss: 0.0056 - acc: 0.9987 - val_loss: 0.1488 - val_acc: 0.9625\n",
      "Epoch 91/100\n",
      "25/25 [==============================] - 0s 13ms/step - loss: 0.0042 - acc: 0.9994 - val_loss: 0.1572 - val_acc: 0.9550\n",
      "Epoch 92/100\n",
      "25/25 [==============================] - 0s 13ms/step - loss: 0.0081 - acc: 0.9987 - val_loss: 0.1567 - val_acc: 0.9650\n",
      "Epoch 93/100\n",
      "25/25 [==============================] - 0s 13ms/step - loss: 0.0045 - acc: 0.9987 - val_loss: 0.1415 - val_acc: 0.9575\n",
      "Epoch 94/100\n",
      "25/25 [==============================] - 0s 13ms/step - loss: 0.0045 - acc: 0.9994 - val_loss: 0.1506 - val_acc: 0.9625\n",
      "Epoch 95/100\n",
      "25/25 [==============================] - 0s 13ms/step - loss: 0.0080 - acc: 0.9987 - val_loss: 0.1470 - val_acc: 0.9625\n",
      "Epoch 96/100\n",
      "25/25 [==============================] - 0s 12ms/step - loss: 0.0055 - acc: 0.9987 - val_loss: 0.2926 - val_acc: 0.9600\n",
      "Epoch 97/100\n",
      "25/25 [==============================] - 0s 13ms/step - loss: 0.0037 - acc: 0.9994 - val_loss: 0.2105 - val_acc: 0.9525\n",
      "Epoch 98/100\n",
      "25/25 [==============================] - 0s 13ms/step - loss: 0.0054 - acc: 0.9994 - val_loss: 0.1474 - val_acc: 0.9650\n",
      "Epoch 99/100\n",
      "25/25 [==============================] - 0s 12ms/step - loss: 0.0034 - acc: 0.9987 - val_loss: 0.1421 - val_acc: 0.9575\n",
      "Epoch 100/100\n",
      "25/25 [==============================] - 0s 13ms/step - loss: 0.0025 - acc: 1.0000 - val_loss: 0.1975 - val_acc: 0.9475\n"
     ]
    }
   ],
   "source": [
    "history = model.fit(X_train, y_train, epochs=100, batch_size=64, validation_data=(X_test, y_test))"
   ]
  },
  {
   "cell_type": "code",
   "execution_count": 100,
   "metadata": {
    "colab": {
     "base_uri": "https://localhost:8080/",
     "height": 295
    },
    "colab_type": "code",
    "id": "9EJtwqqebmrz",
    "outputId": "78c55da6-85d0-46fd-e081-89beab3546e2"
   },
   "outputs": [
    {
     "data": {
      "image/png": "[encoded data removed]",
      "text/plain": [
       "<Figure size 432x288 with 1 Axes>"
      ]
     },
     "metadata": {
      "tags": []
     },
     "output_type": "display_data"
    }
   ],
   "source": [
    "# plot training\n",
    "\n",
    "plt.plot(history.history['acc'])\n",
    "plt.plot(history.history['val_acc'])\n",
    "plt.title('Model accuracy')\n",
    "plt.ylabel('Accuracy')\n",
    "plt.xlabel('Epoch')\n",
    "plt.legend(['Train', 'Test'], loc='lower right')\n",
    "plt.show()"
   ]
  },
  {
   "cell_type": "code",
   "execution_count": 101,
   "metadata": {
    "colab": {
     "base_uri": "https://localhost:8080/",
     "height": 52
    },
    "colab_type": "code",
    "id": "zZZ6yd5IhNjO",
    "outputId": "a387b03f-69a5-4e64-ba96-46d736ff212c"
   },
   "outputs": [
    {
     "name": "stdout",
     "output_type": "stream",
     "text": [
      "13/13 - 0s - loss: 0.1914 - acc: 0.9475\n"
     ]
    },
    {
     "data": {
      "text/plain": [
       "[0.19138690829277039, 0.9474999904632568]"
      ]
     },
     "execution_count": 101,
     "metadata": {
      "tags": []
     },
     "output_type": "execute_result"
    }
   ],
   "source": [
    "model.evaluate(X_test, y_test, verbose=2)"
   ]
  },
  {
   "cell_type": "code",
   "execution_count": 0,
   "metadata": {
    "colab": {},
    "colab_type": "code",
    "id": "834N6J8WhgRT"
   },
   "outputs": [],
   "source": []
  }
 ],
 "metadata": {
  "colab": {
   "name": "CNN1D_mnist_speaker.ipynb",
   "provenance": []
  },
  "kernelspec": {
   "display_name": "Python 3",
   "language": "python",
   "name": "python3"
  },
  "language_info": {
   "codemirror_mode": {
    "name": "ipython",
    "version": 3
   },
   "file_extension": ".py",
   "mimetype": "text/x-python",
   "name": "python",
   "nbconvert_exporter": "python",
   "pygments_lexer": "ipython3",
   "version": "3.8.1"
  }
 },
 "nbformat": 4,
 "nbformat_minor": 1
}
