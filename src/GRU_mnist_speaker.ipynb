{
  "nbformat": 4,
  "nbformat_minor": 0,
  "metadata": {
    "colab": {
      "name": "GRU_mnist_speaker.ipynb",
      "provenance": []
    },
    "kernelspec": {
      "name": "python3",
      "display_name": "Python 3"
    }
  },
  "cells": [
    {
      "cell_type": "code",
      "metadata": {
        "id": "MdejfJqu6qDT",
        "colab_type": "code",
        "colab": {}
      },
      "source": [
        "from google.colab import drive\n",
        "drive.mount('/content/drive')"
      ],
      "execution_count": 0,
      "outputs": []
    },
    {
      "cell_type": "code",
      "metadata": {
        "id": "028VEOTMFwSx",
        "colab_type": "code",
        "colab": {}
      },
      "source": [
        "import numpy as np\n",
        "import librosa as lr\n",
        "import matplotlib.pyplot as plt\n",
        "from glob import glob\n",
        "import math\n",
        "\n",
        "from tensorflow.keras.models import Sequential\n",
        "from tensorflow.keras.layers import LSTM, Dense, Dropout, BatchNormalization, GRU\n",
        "from tensorflow.keras.utils import Sequence\n",
        "from tensorflow.keras.optimizers import Adam, Adagrad, RMSprop\n",
        "from tensorflow.keras.utils import Sequence"
      ],
      "execution_count": 0,
      "outputs": []
    },
    {
      "cell_type": "code",
      "metadata": {
        "id": "tedtomu0FaH8",
        "colab_type": "code",
        "colab": {}
      },
      "source": [
        "## load mfcc from data\n",
        "def load_data_mfccs(path, n_mfccs):\n",
        "  '''\n",
        "  Load the data from file\n",
        "  Get the mfccs from the signals extracted\n",
        "  Build X, y\n",
        "  '''\n",
        "  files = glob(path)\n",
        "  speakers = ['jackson', 'nicolas', 'theo', 'yweweler']\n",
        "  X, y = [], np.zeros(2000)\n",
        "\n",
        "  for idx, path_file in enumerate(files):\n",
        "    ## load the signal\n",
        "    signal, rate = lr.load(path_file)\n",
        "\n",
        "    ## get mfccs\n",
        "    mfccs = lr.feature.mfcc(y=signal, sr=rate, n_mfcc=n_mfccs)\n",
        "\n",
        "    if (idx % 100 == 0):\n",
        "      print(\"mfcc data nb. {}\".format(idx))\n",
        "    \n",
        "    ## get the label\n",
        "    file_name = path_file.split('/')[-1]\n",
        "    speaker_name = file_name.split('_')[1]\n",
        "    label = speakers.index(speaker_name)\n",
        "\n",
        "    X.append(mfccs.T)\n",
        "    y[idx] = label\n",
        "\n",
        "  return X, y"
      ],
      "execution_count": 0,
      "outputs": []
    },
    {
      "cell_type": "code",
      "metadata": {
        "id": "ybAcXHQ0F0hj",
        "colab_type": "code",
        "outputId": "59de376a-adc9-444e-db87-586ed44df6ad",
        "colab": {
          "base_uri": "https://localhost:8080/",
          "height": 364
        }
      },
      "source": [
        "path = '/content/drive/My Drive/free-spoken-digit-dataset/recordings/*.wav'\n",
        "X, y = load_data_mfccs(path, 50)"
      ],
      "execution_count": 4,
      "outputs": [
        {
          "output_type": "stream",
          "text": [
            "mfcc data nb. 0\n",
            "mfcc data nb. 100\n",
            "mfcc data nb. 200\n",
            "mfcc data nb. 300\n",
            "mfcc data nb. 400\n",
            "mfcc data nb. 500\n",
            "mfcc data nb. 600\n",
            "mfcc data nb. 700\n",
            "mfcc data nb. 800\n",
            "mfcc data nb. 900\n",
            "mfcc data nb. 1000\n",
            "mfcc data nb. 1100\n",
            "mfcc data nb. 1200\n",
            "mfcc data nb. 1300\n",
            "mfcc data nb. 1400\n",
            "mfcc data nb. 1500\n",
            "mfcc data nb. 1600\n",
            "mfcc data nb. 1700\n",
            "mfcc data nb. 1800\n",
            "mfcc data nb. 1900\n"
          ],
          "name": "stdout"
        }
      ]
    },
    {
      "cell_type": "code",
      "metadata": {
        "id": "pihsYVc1dfqN",
        "colab_type": "code",
        "colab": {}
      },
      "source": [
        "## separate data for training and for testing\n",
        "def split_data(X, y, p=0.2):\n",
        "  '''\n",
        "  Split dataset into Training and Testing\n",
        "  '''\n",
        "  m = len(X)\n",
        "  nb_te = int(m*p)\n",
        "  pos_vec = np.arange(m)\n",
        "  np.random.shuffle(pos_vec)\n",
        "  pos_vec = pos_vec[:nb_te]\n",
        "  pos_vec = np.sort(pos_vec)\n",
        "\n",
        "  idx_tr, idx_te = 0, 0\n",
        "  X_train, X_test = [], []\n",
        "  y_train, y_test = np.zeros(m-nb_te), np.zeros(nb_te)\n",
        "  \n",
        "  for idx, elm in enumerate(X):\n",
        "    if (idx_te < pos_vec.shape[0] and idx == pos_vec[idx_te]):\n",
        "      X_test.append(elm)\n",
        "      y_test[idx_te] = y[idx]\n",
        "      idx_te += 1\n",
        "    else:\n",
        "      X_train.append(elm)\n",
        "      y_train[idx_tr] = y[idx]\n",
        "      idx_tr += 1\n",
        "\n",
        "  return X_train, y_train, X_test, y_test"
      ],
      "execution_count": 0,
      "outputs": []
    },
    {
      "cell_type": "code",
      "metadata": {
        "id": "7ojIw7CobPmX",
        "colab_type": "code",
        "colab": {}
      },
      "source": [
        "X_train, y_train, X_test, y_test = split_data(X, y)"
      ],
      "execution_count": 0,
      "outputs": []
    },
    {
      "cell_type": "code",
      "metadata": {
        "id": "v8tu4ZwDF23o",
        "colab_type": "code",
        "colab": {}
      },
      "source": [
        "## Using yield generator\n",
        "def data_generator(X, y):\n",
        "  while True:\n",
        "    for idx, elm in enumerate(X):\n",
        "      x_data = np.empty((1, X[idx].shape[0], X[idx].shape[1]))\n",
        "      x_data[0] = X[idx]\n",
        "      y_data = [y[idx]]\n",
        "      yield x_data, np.array(y_data)\n",
        "\n",
        "## Using class generator\n",
        "class DataGenerator(Sequence):\n",
        "  def __init__(self, X, y, batch_size):\n",
        "    self.X = X\n",
        "    self.y = y\n",
        "    self.batch_size = batch_size\n",
        "\n",
        "  # nbr of batch in the sequence\n",
        "  def __len__(self):\n",
        "    return math.ceil((len(self.y) / self.batch_size))\n",
        "\n",
        "  # get batch at the position index\n",
        "  def __getitem__(self, idx):\n",
        "    x_data = np.empty((self.batch_size, self.X[idx].shape[0], self.X[idx].shape[1]))\n",
        "    y_data = np.array((self.batch_size, *self.y[idx].shape))\n",
        "    x_data[0] = self.X[idx]\n",
        "    y_data[0] = self.y[idx]\n",
        "    return x_data, y_data"
      ],
      "execution_count": 0,
      "outputs": []
    },
    {
      "cell_type": "code",
      "metadata": {
        "id": "JZa2ohJ_I-KD",
        "colab_type": "code",
        "outputId": "fc868d20-2f4f-4b09-afb7-ec3e2e0f547e",
        "colab": {
          "base_uri": "https://localhost:8080/",
          "height": 225
        }
      },
      "source": [
        "## build model\n",
        "\n",
        "model = Sequential()\n",
        "\n",
        "model.add(GRU(20, return_sequences=False, input_shape=(None, 50), name='input_gru'))\n",
        "model.add(Dense(4, activation='softmax', name='output_dense'))\n",
        "\n",
        "model.summary()"
      ],
      "execution_count": 121,
      "outputs": [
        {
          "output_type": "stream",
          "text": [
            "Model: \"sequential_7\"\n",
            "_________________________________________________________________\n",
            "Layer (type)                 Output Shape              Param #   \n",
            "=================================================================\n",
            "input_gru (GRU)              (None, 20)                4320      \n",
            "_________________________________________________________________\n",
            "output_dense (Dense)         (None, 4)                 84        \n",
            "=================================================================\n",
            "Total params: 4,404\n",
            "Trainable params: 4,404\n",
            "Non-trainable params: 0\n",
            "_________________________________________________________________\n"
          ],
          "name": "stdout"
        }
      ]
    },
    {
      "cell_type": "code",
      "metadata": {
        "id": "V26p_iIxJDBs",
        "colab_type": "code",
        "colab": {}
      },
      "source": [
        "# compile model\n",
        "#rmsprop = RMSprop(learning_rate=0.01)\n",
        "adam = Adam(learning_rate=0.001)\n",
        "model.compile(optimizer=adam, loss='sparse_categorical_crossentropy', metrics=['accuracy'])"
      ],
      "execution_count": 0,
      "outputs": []
    },
    {
      "cell_type": "code",
      "metadata": {
        "id": "YBDtWXFxRaxU",
        "colab_type": "code",
        "outputId": "ee6135e9-0f0f-4e7e-d451-6f08200cde31",
        "colab": {
          "base_uri": "https://localhost:8080/",
          "height": 538
        }
      },
      "source": [
        "\n",
        "## using yield generator\n",
        "val_step = len(X_test)\n",
        "step = len(X_train)\n",
        "tr_generator = data_generator(X_train, y_train)\n",
        "te_generator = data_generator(X_test, y_test)\n",
        "#history = model.fit_generator(generator=tr_generator, validation_data=te_generator, validation_steps=val_step, steps_per_epoch=step, epochs=15, verbose=1)\n",
        "\n",
        "## using class generator\n",
        "train_generator = DataGenerator(X_train, y_train, 1)\n",
        "validation_generator = DataGenerator(X_test, y_test, 1)\n",
        "history = model.fit_generator(generator=train_generator, validation_data=validation_generator, epochs=15, verbose=1)"
      ],
      "execution_count": 123,
      "outputs": [
        {
          "output_type": "stream",
          "text": [
            "Epoch 1/15\n",
            "1600/1600 [==============================] - 12s 8ms/step - loss: 1.0047 - accuracy: 0.5781 - val_loss: 0.7245 - val_accuracy: 0.6600\n",
            "Epoch 2/15\n",
            "1600/1600 [==============================] - 12s 8ms/step - loss: 0.5939 - accuracy: 0.7688 - val_loss: 0.4921 - val_accuracy: 0.8450\n",
            "Epoch 3/15\n",
            "1600/1600 [==============================] - 13s 8ms/step - loss: 0.4339 - accuracy: 0.8531 - val_loss: 0.3550 - val_accuracy: 0.9100\n",
            "Epoch 4/15\n",
            "1600/1600 [==============================] - 12s 8ms/step - loss: 0.3535 - accuracy: 0.8856 - val_loss: 0.3805 - val_accuracy: 0.8675\n",
            "Epoch 5/15\n",
            "1600/1600 [==============================] - 13s 8ms/step - loss: 0.2971 - accuracy: 0.9019 - val_loss: 0.2761 - val_accuracy: 0.9225\n",
            "Epoch 6/15\n",
            "1600/1600 [==============================] - 12s 8ms/step - loss: 0.2587 - accuracy: 0.9237 - val_loss: 0.2611 - val_accuracy: 0.9350\n",
            "Epoch 7/15\n",
            "1600/1600 [==============================] - 13s 8ms/step - loss: 0.2553 - accuracy: 0.9200 - val_loss: 0.2156 - val_accuracy: 0.9475\n",
            "Epoch 8/15\n",
            "1600/1600 [==============================] - 12s 8ms/step - loss: 0.2063 - accuracy: 0.9394 - val_loss: 0.2094 - val_accuracy: 0.9350\n",
            "Epoch 9/15\n",
            "1600/1600 [==============================] - 12s 8ms/step - loss: 0.2127 - accuracy: 0.9287 - val_loss: 0.1750 - val_accuracy: 0.9550\n",
            "Epoch 10/15\n",
            "1600/1600 [==============================] - 13s 8ms/step - loss: 0.1873 - accuracy: 0.9469 - val_loss: 0.1957 - val_accuracy: 0.9425\n",
            "Epoch 11/15\n",
            "1600/1600 [==============================] - 13s 8ms/step - loss: 0.2137 - accuracy: 0.9319 - val_loss: 0.1613 - val_accuracy: 0.9575\n",
            "Epoch 12/15\n",
            "1600/1600 [==============================] - 13s 8ms/step - loss: 0.1970 - accuracy: 0.9369 - val_loss: 0.2344 - val_accuracy: 0.9500\n",
            "Epoch 13/15\n",
            "1600/1600 [==============================] - 12s 8ms/step - loss: 0.2060 - accuracy: 0.9331 - val_loss: 0.1895 - val_accuracy: 0.9425\n",
            "Epoch 14/15\n",
            "1600/1600 [==============================] - 12s 8ms/step - loss: 0.1750 - accuracy: 0.9525 - val_loss: 0.1863 - val_accuracy: 0.9525\n",
            "Epoch 15/15\n",
            "1600/1600 [==============================] - 12s 8ms/step - loss: 0.1784 - accuracy: 0.9413 - val_loss: 0.2281 - val_accuracy: 0.8950\n"
          ],
          "name": "stdout"
        }
      ]
    },
    {
      "cell_type": "code",
      "metadata": {
        "id": "lpqxO4MmRlpB",
        "colab_type": "code",
        "colab": {
          "base_uri": "https://localhost:8080/",
          "height": 573
        },
        "outputId": "d99c9e45-25bc-4512-b317-f6b7ea3381e9"
      },
      "source": [
        "# Plot training & validation accuracy values\n",
        "plt.plot(history.history['accuracy'])\n",
        "plt.plot(history.history['val_accuracy'])\n",
        "plt.title('Model accuracy')\n",
        "plt.ylabel('Accuracy')\n",
        "plt.xlabel('Epoch')\n",
        "plt.legend(['Train', 'Test'], loc='lower right')\n",
        "plt.show()\n",
        "\n",
        "# Plot training & validation loss values\n",
        "plt.plot(history.history['loss'])\n",
        "plt.plot(history.history['val_loss'])\n",
        "plt.title('Model loss')\n",
        "plt.ylabel('Loss')\n",
        "plt.xlabel('Epoch')\n",
        "plt.legend(['Train', 'Test'], loc='upper right')\n",
        "plt.show()"
      ],
      "execution_count": 124,
      "outputs": [
        {
          "output_type": "display_data",
          "data": {
            "image/png": "[encoded data removed]",
            "text/plain": [
              "<Figure size 432x288 with 1 Axes>"
            ]
          },
          "metadata": {
            "tags": [],
            "needs_background": "light"
          }
        },
        {
          "output_type": "display_data",
          "data": {
            "image/png": "[encoded data removed]",
            "text/plain": [
              "<Figure size 432x288 with 1 Axes>"
            ]
          },
          "metadata": {
            "tags": [],
            "needs_background": "light"
          }
        }
      ]
    },
    {
      "cell_type": "code",
      "metadata": {
        "id": "9yHh2UBF-N53",
        "colab_type": "code",
        "colab": {}
      },
      "source": [
        "## compute accupacy for each class\n",
        "def compute_accuracy_class(class_generator):\n",
        "  '''\n",
        "  Compute accuracy of a class data generator\n",
        "  return:\n",
        "  acc_class -> array of accuracy per class\n",
        "  acc -> total accuracy\n",
        "  '''\n",
        "  pred = model.predict_generator(generator=validation_generator)\n",
        "  acc_class, nb_class = np.zeros(4), np.zeros(4)\n",
        "  acc, n = 0, 0\n",
        "\n",
        "  for idx, elm in enumerate(pred):\n",
        "    label_pred = np.argmax(elm)\n",
        "    label_true = int(validation_generator.y[idx])\n",
        "    nb_class[label_true] += 1\n",
        "    if (label_pred == label_true):\n",
        "      acc += 1\n",
        "      acc_class[label_true] += 1\n",
        "    n += 1\n",
        "  return acc_class / nb_class, acc / n\n",
        "\n",
        "def compute_accuracy_yield(generator, steps):\n",
        "  '''\n",
        "  Compute accuracy of a data yield generator\n",
        "  return:\n",
        "  acc_class -> array of accuracy per class\n",
        "  acc -> total accuracy\n",
        "  '''\n",
        "  ## IMPORTANT: put the workers to 0, to avoid having the bug -> data put in wrong order\n",
        "  ## Having workers equal to 0, keep the data in proper order\n",
        "  pred = model.predict_generator(generator=generator, steps=steps, workers=0)\n",
        "  acc_class, nb_class = np.zeros(4), np.zeros(4)\n",
        "  acc, n = 0, 0\n",
        "\n",
        "  for _, y_elm in generator:\n",
        "    if (n == steps):\n",
        "      break\n",
        "    label_pred = np.argmax(pred[n])\n",
        "    label_true = int(*y_elm)\n",
        "    nb_class[label_true] += 1\n",
        "    if (label_pred == label_true):\n",
        "      acc += 1\n",
        "      acc_class[label_true] += 1\n",
        "    n += 1\n",
        "  return acc_class / nb_class, acc / n"
      ],
      "execution_count": 0,
      "outputs": []
    },
    {
      "cell_type": "code",
      "metadata": {
        "id": "xpe3qF7X-hH0",
        "colab_type": "code",
        "colab": {}
      },
      "source": [
        "# Class data generator\n",
        "acc_class, acc = compute_accuracy_class(validation_generator)\n",
        "\n",
        "# Yield data generator\n",
        "#acc_class, acc = compute_accuracy_yield(te_generator, steps=val_step)"
      ],
      "execution_count": 0,
      "outputs": []
    },
    {
      "cell_type": "code",
      "metadata": {
        "id": "ObfDksJV-qsU",
        "colab_type": "code",
        "colab": {
          "base_uri": "https://localhost:8080/",
          "height": 52
        },
        "outputId": "0976f348-0267-4f0c-f2fe-fb6ff838b13c"
      },
      "source": [
        "print(\"Total Accuracy {}\".format(acc))\n",
        "print(\"Classes Accuracy {}\".format(acc_class))"
      ],
      "execution_count": 129,
      "outputs": [
        {
          "output_type": "stream",
          "text": [
            "Total Accuracy 0.895\n",
            "Classes Accuracy [1.         1.         0.58415842 1.        ]\n"
          ],
          "name": "stdout"
        }
      ]
    },
    {
      "cell_type": "code",
      "metadata": {
        "id": "xA_oTTQmA0kg",
        "colab_type": "code",
        "colab": {}
      },
      "source": [
        ""
      ],
      "execution_count": 0,
      "outputs": []
    }
  ]
}