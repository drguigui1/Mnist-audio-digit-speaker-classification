{
 "cells": [
  {
   "cell_type": "code",
   "execution_count": 0,
   "metadata": {
    "colab": {},
    "colab_type": "code",
    "id": "pW9_Rfr3BwTE"
   },
   "outputs": [],
   "source": [
    "from google.colab import drive\n",
    "drive.mount('/content/drive')"
   ]
  },
  {
   "cell_type": "code",
   "execution_count": 0,
   "metadata": {
    "colab": {},
    "colab_type": "code",
    "id": "GBX7-XbrCHz2"
   },
   "outputs": [],
   "source": [
    "import numpy as np\n",
    "import librosa as lr\n",
    "import matplotlib.pyplot as plt\n",
    "from glob import glob\n",
    "\n",
    "from sklearn.model_selection import train_test_split\n",
    "\n",
    "from tensorflow.keras.models import Model, Sequential\n",
    "from tensorflow.keras.layers import Input, Dense, Dropout, Lambda, Flatten\n",
    "from tensorflow.keras.optimizers import Adam\n",
    "from tensorflow.keras import backend as K\n",
    "\n",
    "import matplotlib.pyplot as plt\n",
    "\n",
    "import random as rd"
   ]
  },
  {
   "cell_type": "code",
   "execution_count": 0,
   "metadata": {
    "colab": {},
    "colab_type": "code",
    "id": "V_2iC2GpDdeB"
   },
   "outputs": [],
   "source": [
    "## load mfcc from data\n",
    "def load_data_mfccs(path, n_mfccs):\n",
    "  '''\n",
    "  Load the data from file\n",
    "  Get the mfccs from the signals extracted\n",
    "  Build X, y\n",
    "  '''\n",
    "  files = glob(path)\n",
    "  speakers = ['jackson', 'nicolas', 'theo', 'yweweler']\n",
    "  X, y = np.zeros((2000, n_mfccs)), np.zeros(2000)\n",
    "\n",
    "  for idx, path_file in enumerate(files):\n",
    "    ## load the signal\n",
    "    signal, rate = lr.load(path_file)\n",
    "\n",
    "    ## get mfccs\n",
    "    mfccs = lr.feature.mfcc(y=signal, sr=rate, n_mfcc=n_mfccs)\n",
    "    mfccs_processed = np.mean(mfccs.T, axis=0)\n",
    "\n",
    "    if (idx % 100 == 0):\n",
    "      print(\"mfcc data nb. {}\".format(idx))\n",
    "    \n",
    "    ## get the label\n",
    "    file_name = path_file.split('/')[-1]\n",
    "    speaker_name = file_name.split('_')[1]\n",
    "    label = speakers.index(speaker_name)\n",
    "\n",
    "    X[idx] = mfccs_processed\n",
    "    y[idx] = label\n",
    "\n",
    "  return X, y"
   ]
  },
  {
   "cell_type": "code",
   "execution_count": 4,
   "metadata": {
    "colab": {
     "base_uri": "https://localhost:8080/",
     "height": 364
    },
    "colab_type": "code",
    "id": "Bcx9IztfH28n",
    "outputId": "5c683f39-e721-440c-ad94-5d72eb75d85f"
   },
   "outputs": [
    {
     "name": "stdout",
     "output_type": "stream",
     "text": [
      "mfcc data nb. 0\n",
      "mfcc data nb. 100\n",
      "mfcc data nb. 200\n",
      "mfcc data nb. 300\n",
      "mfcc data nb. 400\n",
      "mfcc data nb. 500\n",
      "mfcc data nb. 600\n",
      "mfcc data nb. 700\n",
      "mfcc data nb. 800\n",
      "mfcc data nb. 900\n",
      "mfcc data nb. 1000\n",
      "mfcc data nb. 1100\n",
      "mfcc data nb. 1200\n",
      "mfcc data nb. 1300\n",
      "mfcc data nb. 1400\n",
      "mfcc data nb. 1500\n",
      "mfcc data nb. 1600\n",
      "mfcc data nb. 1700\n",
      "mfcc data nb. 1800\n",
      "mfcc data nb. 1900\n"
     ]
    }
   ],
   "source": [
    "path = '/content/drive/My Drive/free-spoken-digit-dataset/recordings/*.wav'\n",
    "X, y = load_data_mfccs(path, 50)"
   ]
  },
  {
   "cell_type": "code",
   "execution_count": 0,
   "metadata": {
    "colab": {},
    "colab_type": "code",
    "id": "X1Owh91bS7pC"
   },
   "outputs": [],
   "source": [
    "X = np.reshape(X, (X.shape[0], 1, X.shape[1]))"
   ]
  },
  {
   "cell_type": "code",
   "execution_count": 121,
   "metadata": {
    "colab": {
     "base_uri": "https://localhost:8080/",
     "height": 52
    },
    "colab_type": "code",
    "id": "Kk9RcOMEOGrb",
    "outputId": "2e927cca-af33-494c-ca4e-eeeb581907b4"
   },
   "outputs": [
    {
     "name": "stdout",
     "output_type": "stream",
     "text": [
      "(2000, 1, 50)\n",
      "(2000,)\n"
     ]
    }
   ],
   "source": [
    "print(X.shape)\n",
    "print(y.shape)"
   ]
  },
  {
   "cell_type": "code",
   "execution_count": 0,
   "metadata": {
    "colab": {},
    "colab_type": "code",
    "id": "Zv1KCYrwJBNb"
   },
   "outputs": [],
   "source": [
    "## store ref in our database\n",
    "def store_database_ref(X, y):\n",
    "  '''\n",
    "  Ref database\n",
    "  4 speaker audio (one of each speaker)\n",
    "  '''\n",
    "  ref = np.zeros((4, 1, X.shape[-1]))\n",
    "  for i in range(4):\n",
    "    tmp = X[y == i]\n",
    "    rd = np.random.randint(0, len(tmp))\n",
    "    ref[i] = tmp[rd]\n",
    "  return ref"
   ]
  },
  {
   "cell_type": "code",
   "execution_count": 0,
   "metadata": {
    "colab": {},
    "colab_type": "code",
    "id": "UglcxdP3OLzU"
   },
   "outputs": [],
   "source": [
    "ref = store_database_ref(X, y)"
   ]
  },
  {
   "cell_type": "code",
   "execution_count": 127,
   "metadata": {
    "colab": {
     "base_uri": "https://localhost:8080/",
     "height": 34
    },
    "colab_type": "code",
    "id": "lo__sKBc0rV9",
    "outputId": "7c84aac0-dacf-4e8f-a916-ec5f7b202866"
   },
   "outputs": [
    {
     "name": "stdout",
     "output_type": "stream",
     "text": [
      "(4, 1, 50)\n"
     ]
    }
   ],
   "source": [
    "print(ref.shape)"
   ]
  },
  {
   "cell_type": "code",
   "execution_count": 0,
   "metadata": {
    "colab": {},
    "colab_type": "code",
    "id": "HNYCLLIwxndj"
   },
   "outputs": [],
   "source": [
    "def create_pairs(x, speaker_indices):\n",
    "  '''\n",
    "  Create pairs\n",
    "  Positive and negative pairs\n",
    "  Alternate positive and negative pairs\n",
    "  '''\n",
    "  nb_class = 4\n",
    "  pairs = []\n",
    "  labels = []\n",
    "  n = min([len(speaker_indices[d]) for d in range(nb_class)]) - 1\n",
    "  for d in range(nb_class):\n",
    "      for i in range(n):\n",
    "          z1, z2 = speaker_indices[d][i], speaker_indices[d][i + 1]\n",
    "          pairs += [[x[z1], x[z2]]]\n",
    "          inc = rd.randrange(1, nb_class)\n",
    "          dn = (d + inc) % nb_class\n",
    "          z1, z2 = speaker_indices[d][i], speaker_indices[dn][i]\n",
    "          pairs += [[x[z1], x[z2]]]\n",
    "          labels += [1, 0]\n",
    "  return np.array(pairs), np.array(labels)"
   ]
  },
  {
   "cell_type": "code",
   "execution_count": 0,
   "metadata": {
    "colab": {},
    "colab_type": "code",
    "id": "RfXAsQ4x4GG8"
   },
   "outputs": [],
   "source": [
    "X_train, X_test, y_train, y_test = train_test_split(X, y, test_size=0.2, shuffle=True)\n",
    "\n",
    "speaker_indices_tr = [np.where(y_train == i)[0] for i in range(4)]\n",
    "speaker_indices_te = [np.where(y_test == i)[0] for i in range(4)]\n",
    "\n",
    "X_pairs_tr, y_pairs_tr = create_pairs(X_train, speaker_indices_tr)\n",
    "X_pairs_te, y_pairs_te = create_pairs(X_test, speaker_indices_te)"
   ]
  },
  {
   "cell_type": "code",
   "execution_count": 130,
   "metadata": {
    "colab": {
     "base_uri": "https://localhost:8080/",
     "height": 52
    },
    "colab_type": "code",
    "id": "tGBjegNF7Cbg",
    "outputId": "05055afc-bac6-47ed-92f9-bdfeed1b9cb7"
   },
   "outputs": [
    {
     "name": "stdout",
     "output_type": "stream",
     "text": [
      "Training data shape: (3064, 2, 1, 50)\n",
      "Testing data shape: (688, 2, 1, 50)\n"
     ]
    }
   ],
   "source": [
    "print(\"Training data shape: {}\".format(X_pairs_tr.shape))\n",
    "print(\"Testing data shape: {}\".format(X_pairs_te.shape))"
   ]
  },
  {
   "cell_type": "code",
   "execution_count": 0,
   "metadata": {
    "colab": {},
    "colab_type": "code",
    "id": "ZJMD7zfDYW1s"
   },
   "outputs": [],
   "source": [
    "def compute_accuracy(y_true, y_pred):\n",
    "    '''\n",
    "    Compute classification accuracy with a fixed threshold on distances.\n",
    "    '''\n",
    "    pred = y_pred.ravel() < 0.5\n",
    "    return np.mean(pred == y_true)\n",
    "\n",
    "def accuracy(y_true, y_pred):\n",
    "    '''\n",
    "    Compute classification accuracy with a fixed threshold on distances.\n",
    "    '''\n",
    "    return K.mean(K.equal(y_true, K.cast(y_pred < 0.5, y_true.dtype)))\n",
    "\n",
    "def contrastive_loss(y_true, y_pred):\n",
    "    '''\n",
    "    Contrastive loss from Hadsell-et-al.'06\n",
    "    '''\n",
    "    margin = 1\n",
    "    square_pred = K.square(y_pred)\n",
    "    margin_square = K.square(K.maximum(margin - y_pred, 0))\n",
    "    return K.mean(y_true * square_pred + (1 - y_true) * margin_square)\n",
    "\n",
    "def euclidean_distance(vects):\n",
    "    x, y = vects\n",
    "    sum_square = K.sum(K.square(x - y), axis=1, keepdims=True)\n",
    "    return K.sqrt(K.maximum(sum_square, K.epsilon()))\n",
    "\n",
    "\n",
    "def eucl_dist_output_shape(shapes):\n",
    "    shape1, shape2 = shapes\n",
    "    return (shape1[0], 1)"
   ]
  },
  {
   "cell_type": "code",
   "execution_count": 0,
   "metadata": {
    "colab": {},
    "colab_type": "code",
    "id": "d81SmUMdOWy-"
   },
   "outputs": [],
   "source": [
    "## build our model\n",
    "def build_dense_siamese(input_shape):\n",
    "  '''\n",
    "  Build the dense siamese model\n",
    "  input_shape: (1, n_mfccs)\n",
    "  '''\n",
    "  inpt = Input(input_shape)\n",
    "  x = Flatten() (inpt)\n",
    "  x = Dense(30, activation='relu') (x)\n",
    "  x = Dropout(0.1) (x)\n",
    "  x = Dense(30, activation='relu') (x)\n",
    "  x = Dropout(0.15) (x)\n",
    "  x = Dense(15, activation='relu') (x)\n",
    "  x = Lambda(lambda x: K.l2_normalize(x, axis=1)) (x)\n",
    "  x = Lambda(lambda x: K.l2_normalize(x, axis=1)) (x)\n",
    "\n",
    "  model = Model(inpt, x)\n",
    "\n",
    "  siamese_a = Input(input_shape)\n",
    "  siamese_b = Input(input_shape)\n",
    "\n",
    "  encoded_a = model (siamese_a)\n",
    "  encoded_b = model (siamese_b)\n",
    "\n",
    "  distance = Lambda(euclidean_distance, output_shape=eucl_dist_output_shape) ([encoded_a, encoded_b])\n",
    "\n",
    "  model_f = Model([siamese_a, siamese_b], distance)\n",
    "\n",
    "  adm = Adam(lr=0.01)\n",
    "  model_f.compile(loss=contrastive_loss, optimizer=adm, metrics=[accuracy])\n",
    "\n",
    "  return model_f"
   ]
  },
  {
   "cell_type": "code",
   "execution_count": 0,
   "metadata": {
    "colab": {},
    "colab_type": "code",
    "id": "OV598MOr8FPD"
   },
   "outputs": [],
   "source": [
    "input_shape = (1, 50)\n",
    "model = build_dense_siamese(input_shape)"
   ]
  },
  {
   "cell_type": "code",
   "execution_count": 134,
   "metadata": {
    "colab": {
     "base_uri": "https://localhost:8080/",
     "height": 330
    },
    "colab_type": "code",
    "id": "x10Dbezg8VpD",
    "outputId": "a26c3d1e-6ac0-45ce-b59a-4134607c209b"
   },
   "outputs": [
    {
     "name": "stdout",
     "output_type": "stream",
     "text": [
      "Model: \"model_9\"\n",
      "__________________________________________________________________________________________________\n",
      "Layer (type)                    Output Shape         Param #     Connected to                     \n",
      "==================================================================================================\n",
      "input_17 (InputLayer)           [(None, 1, 50)]      0                                            \n",
      "__________________________________________________________________________________________________\n",
      "input_18 (InputLayer)           [(None, 1, 50)]      0                                            \n",
      "__________________________________________________________________________________________________\n",
      "model_8 (Model)                 (None, 15)           2925        input_17[0][0]                   \n",
      "                                                                 input_18[0][0]                   \n",
      "__________________________________________________________________________________________________\n",
      "lambda_16 (Lambda)              (None, 1)            0           model_8[1][0]                    \n",
      "                                                                 model_8[2][0]                    \n",
      "==================================================================================================\n",
      "Total params: 2,925\n",
      "Trainable params: 2,925\n",
      "Non-trainable params: 0\n",
      "__________________________________________________________________________________________________\n"
     ]
    }
   ],
   "source": [
    "model.summary()"
   ]
  },
  {
   "cell_type": "code",
   "execution_count": 135,
   "metadata": {
    "colab": {
     "base_uri": "https://localhost:8080/",
     "height": 1000
    },
    "colab_type": "code",
    "id": "FkMjAztf8qp8",
    "outputId": "96b71b78-3951-4ece-c205-3c0ac6bb9fdb"
   },
   "outputs": [
    {
     "name": "stdout",
     "output_type": "stream",
     "text": [
      "Epoch 1/50\n",
      "24/24 [==============================] - 0s 12ms/step - loss: 0.2124 - accuracy: 0.6577 - val_loss: 0.1699 - val_accuracy: 0.7873\n",
      "Epoch 2/50\n",
      "24/24 [==============================] - 0s 4ms/step - loss: 0.1080 - accuracy: 0.8630 - val_loss: 0.1035 - val_accuracy: 0.8646\n",
      "Epoch 3/50\n",
      "24/24 [==============================] - 0s 4ms/step - loss: 0.0789 - accuracy: 0.9028 - val_loss: 0.1087 - val_accuracy: 0.8637\n",
      "Epoch 4/50\n",
      "24/24 [==============================] - 0s 5ms/step - loss: 0.0712 - accuracy: 0.9080 - val_loss: 0.0782 - val_accuracy: 0.8867\n",
      "Epoch 5/50\n",
      "24/24 [==============================] - 0s 5ms/step - loss: 0.0600 - accuracy: 0.9247 - val_loss: 0.0510 - val_accuracy: 0.9128\n",
      "Epoch 6/50\n",
      "24/24 [==============================] - 0s 5ms/step - loss: 0.0450 - accuracy: 0.9436 - val_loss: 0.0321 - val_accuracy: 0.9683\n",
      "Epoch 7/50\n",
      "24/24 [==============================] - 0s 5ms/step - loss: 0.0373 - accuracy: 0.9592 - val_loss: 0.0298 - val_accuracy: 0.9666\n",
      "Epoch 8/50\n",
      "24/24 [==============================] - 0s 5ms/step - loss: 0.0290 - accuracy: 0.9702 - val_loss: 0.0218 - val_accuracy: 0.9740\n",
      "Epoch 9/50\n",
      "24/24 [==============================] - 0s 5ms/step - loss: 0.0220 - accuracy: 0.9759 - val_loss: 0.0253 - val_accuracy: 0.9735\n",
      "Epoch 10/50\n",
      "24/24 [==============================] - 0s 4ms/step - loss: 0.0223 - accuracy: 0.9733 - val_loss: 0.0222 - val_accuracy: 0.9783\n",
      "Epoch 11/50\n",
      "24/24 [==============================] - 0s 4ms/step - loss: 0.0156 - accuracy: 0.9814 - val_loss: 0.0207 - val_accuracy: 0.9692\n",
      "Epoch 12/50\n",
      "24/24 [==============================] - 0s 5ms/step - loss: 0.0131 - accuracy: 0.9840 - val_loss: 0.0163 - val_accuracy: 0.9796\n",
      "Epoch 13/50\n",
      "24/24 [==============================] - 0s 4ms/step - loss: 0.0258 - accuracy: 0.9642 - val_loss: 0.0188 - val_accuracy: 0.9770\n",
      "Epoch 14/50\n",
      "24/24 [==============================] - 0s 5ms/step - loss: 0.0189 - accuracy: 0.9768 - val_loss: 0.0223 - val_accuracy: 0.9692\n",
      "Epoch 15/50\n",
      "24/24 [==============================] - 0s 5ms/step - loss: 0.0184 - accuracy: 0.9768 - val_loss: 0.0151 - val_accuracy: 0.9865\n",
      "Epoch 16/50\n",
      "24/24 [==============================] - 0s 5ms/step - loss: 0.0156 - accuracy: 0.9803 - val_loss: 0.0147 - val_accuracy: 0.9770\n",
      "Epoch 17/50\n",
      "24/24 [==============================] - 0s 5ms/step - loss: 0.0142 - accuracy: 0.9843 - val_loss: 0.0143 - val_accuracy: 0.9813\n",
      "Epoch 18/50\n",
      "24/24 [==============================] - 0s 5ms/step - loss: 0.0114 - accuracy: 0.9859 - val_loss: 0.0161 - val_accuracy: 0.9731\n",
      "Epoch 19/50\n",
      "24/24 [==============================] - 0s 5ms/step - loss: 0.0114 - accuracy: 0.9860 - val_loss: 0.0157 - val_accuracy: 0.9783\n",
      "Epoch 20/50\n",
      "24/24 [==============================] - 0s 4ms/step - loss: 0.0159 - accuracy: 0.9804 - val_loss: 0.0192 - val_accuracy: 0.9692\n",
      "Epoch 21/50\n",
      "24/24 [==============================] - 0s 5ms/step - loss: 0.0176 - accuracy: 0.9788 - val_loss: 0.0134 - val_accuracy: 0.9870\n",
      "Epoch 22/50\n",
      "24/24 [==============================] - 0s 5ms/step - loss: 0.0152 - accuracy: 0.9814 - val_loss: 0.0154 - val_accuracy: 0.9787\n",
      "Epoch 23/50\n",
      "24/24 [==============================] - 0s 5ms/step - loss: 0.0111 - accuracy: 0.9860 - val_loss: 0.0171 - val_accuracy: 0.9796\n",
      "Epoch 24/50\n",
      "24/24 [==============================] - 0s 15ms/step - loss: 0.0136 - accuracy: 0.9827 - val_loss: 0.0212 - val_accuracy: 0.9748\n",
      "Epoch 25/50\n",
      "24/24 [==============================] - 0s 5ms/step - loss: 0.0152 - accuracy: 0.9810 - val_loss: 0.0179 - val_accuracy: 0.9800\n",
      "Epoch 26/50\n",
      "24/24 [==============================] - 0s 4ms/step - loss: 0.0182 - accuracy: 0.9781 - val_loss: 0.0123 - val_accuracy: 0.9839\n",
      "Epoch 27/50\n",
      "24/24 [==============================] - 0s 4ms/step - loss: 0.0142 - accuracy: 0.9816 - val_loss: 0.0151 - val_accuracy: 0.9826\n",
      "Epoch 28/50\n",
      "24/24 [==============================] - 0s 4ms/step - loss: 0.0124 - accuracy: 0.9860 - val_loss: 0.0137 - val_accuracy: 0.9770\n",
      "Epoch 29/50\n",
      "24/24 [==============================] - 0s 4ms/step - loss: 0.0149 - accuracy: 0.9784 - val_loss: 0.0161 - val_accuracy: 0.9826\n",
      "Epoch 30/50\n",
      "24/24 [==============================] - 0s 4ms/step - loss: 0.0093 - accuracy: 0.9883 - val_loss: 0.0145 - val_accuracy: 0.9787\n",
      "Epoch 31/50\n",
      "24/24 [==============================] - 0s 5ms/step - loss: 0.0121 - accuracy: 0.9870 - val_loss: 0.0254 - val_accuracy: 0.9731\n",
      "Epoch 32/50\n",
      "24/24 [==============================] - 0s 6ms/step - loss: 0.0123 - accuracy: 0.9853 - val_loss: 0.0166 - val_accuracy: 0.9800\n",
      "Epoch 33/50\n",
      "24/24 [==============================] - 0s 5ms/step - loss: 0.0140 - accuracy: 0.9817 - val_loss: 0.0172 - val_accuracy: 0.9800\n",
      "Epoch 34/50\n",
      "24/24 [==============================] - 0s 5ms/step - loss: 0.0135 - accuracy: 0.9811 - val_loss: 0.0149 - val_accuracy: 0.9800\n",
      "Epoch 35/50\n",
      "24/24 [==============================] - 0s 4ms/step - loss: 0.0118 - accuracy: 0.9847 - val_loss: 0.0138 - val_accuracy: 0.9839\n",
      "Epoch 36/50\n",
      "24/24 [==============================] - 0s 4ms/step - loss: 0.0092 - accuracy: 0.9863 - val_loss: 0.0152 - val_accuracy: 0.9800\n",
      "Epoch 37/50\n",
      "24/24 [==============================] - 0s 4ms/step - loss: 0.0156 - accuracy: 0.9808 - val_loss: 0.0153 - val_accuracy: 0.9826\n",
      "Epoch 38/50\n",
      "24/24 [==============================] - 0s 4ms/step - loss: 0.0162 - accuracy: 0.9797 - val_loss: 0.0336 - val_accuracy: 0.9627\n",
      "Epoch 39/50\n",
      "24/24 [==============================] - 0s 4ms/step - loss: 0.0124 - accuracy: 0.9857 - val_loss: 0.0139 - val_accuracy: 0.9800\n",
      "Epoch 40/50\n",
      "24/24 [==============================] - 0s 4ms/step - loss: 0.0085 - accuracy: 0.9902 - val_loss: 0.0111 - val_accuracy: 0.9826\n",
      "Epoch 41/50\n",
      "24/24 [==============================] - 0s 5ms/step - loss: 0.0087 - accuracy: 0.9892 - val_loss: 0.0164 - val_accuracy: 0.9839\n",
      "Epoch 42/50\n",
      "24/24 [==============================] - 0s 4ms/step - loss: 0.0140 - accuracy: 0.9821 - val_loss: 0.0103 - val_accuracy: 0.9909\n",
      "Epoch 43/50\n",
      "24/24 [==============================] - 0s 4ms/step - loss: 0.0096 - accuracy: 0.9876 - val_loss: 0.0130 - val_accuracy: 0.9826\n",
      "Epoch 44/50\n",
      "24/24 [==============================] - 0s 5ms/step - loss: 0.0072 - accuracy: 0.9899 - val_loss: 0.0190 - val_accuracy: 0.9800\n",
      "Epoch 45/50\n",
      "24/24 [==============================] - 0s 4ms/step - loss: 0.0135 - accuracy: 0.9824 - val_loss: 0.0117 - val_accuracy: 0.9896\n",
      "Epoch 46/50\n",
      "24/24 [==============================] - 0s 5ms/step - loss: 0.0083 - accuracy: 0.9886 - val_loss: 0.0129 - val_accuracy: 0.9826\n",
      "Epoch 47/50\n",
      "24/24 [==============================] - 0s 4ms/step - loss: 0.0085 - accuracy: 0.9895 - val_loss: 0.0184 - val_accuracy: 0.9800\n",
      "Epoch 48/50\n",
      "24/24 [==============================] - 0s 4ms/step - loss: 0.0135 - accuracy: 0.9817 - val_loss: 0.0129 - val_accuracy: 0.9857\n",
      "Epoch 49/50\n",
      "24/24 [==============================] - 0s 5ms/step - loss: 0.0109 - accuracy: 0.9876 - val_loss: 0.0145 - val_accuracy: 0.9800\n",
      "Epoch 50/50\n",
      "24/24 [==============================] - 0s 5ms/step - loss: 0.0075 - accuracy: 0.9895 - val_loss: 0.0227 - val_accuracy: 0.9705\n"
     ]
    }
   ],
   "source": [
    "history = model.fit([X_pairs_tr[:, 0], X_pairs_tr[:, 1]], y_pairs_tr, batch_size=128, epochs=50, validation_data=([X_pairs_te[:, 0], X_pairs_te[:, 1]], y_pairs_te))"
   ]
  },
  {
   "cell_type": "code",
   "execution_count": 136,
   "metadata": {
    "colab": {
     "base_uri": "https://localhost:8080/",
     "height": 573
    },
    "colab_type": "code",
    "id": "nQPSzrkzAEmp",
    "outputId": "5bcf5eae-70b7-45f8-b67e-8fd2b8a4bc60"
   },
   "outputs": [
    {
     "data": {
      "image/png": "[encoded data removed]",
      "text/plain": [
       "<Figure size 432x288 with 1 Axes>"
      ]
     },
     "metadata": {
      "tags": []
     },
     "output_type": "display_data"
    },
    {
     "data": {
      "image/png": "[encoded data removed]",
      "text/plain": [
       "<Figure size 432x288 with 1 Axes>"
      ]
     },
     "metadata": {
      "tags": []
     },
     "output_type": "display_data"
    }
   ],
   "source": [
    "# Plot training & validation accuracy values\n",
    "plt.plot(history.history['accuracy'])\n",
    "plt.plot(history.history['val_accuracy'])\n",
    "plt.title('Model accuracy')\n",
    "plt.ylabel('Accuracy')\n",
    "plt.xlabel('Epoch')\n",
    "plt.legend(['Train', 'Test'], loc='lower right')\n",
    "plt.show()\n",
    "\n",
    "# Plot training & validation loss values\n",
    "plt.plot(history.history['loss'])\n",
    "plt.plot(history.history['val_loss'])\n",
    "plt.title('Model loss')\n",
    "plt.ylabel('Loss')\n",
    "plt.xlabel('Epoch')\n",
    "plt.legend(['Train', 'Test'], loc='upper right')\n",
    "plt.show()"
   ]
  },
  {
   "cell_type": "code",
   "execution_count": 0,
   "metadata": {
    "colab": {},
    "colab_type": "code",
    "id": "jcpCpKPM95Lu"
   },
   "outputs": [],
   "source": [
    "def pred_real(model, te_x, te_y, ref):\n",
    "  '''\n",
    "  Predict data according to the ref\n",
    "  '''\n",
    "  speakers = ['jackson', 'nicolas', 'theo', 'yweweler']\n",
    "  n = te_y.shape[0]\n",
    "  nb_ref = ref.shape[0]\n",
    "  true = 0\n",
    "  miss = 0\n",
    "  for i in range(n):\n",
    "    prob = np.zeros(nb_ref)\n",
    "    for j in range(nb_ref):\n",
    "      ## pred for te_x[i] and ref[j]\n",
    "      prob[j] = model.predict([[te_x[i],], [ref[j],]])\n",
    "    label_pred = np.argmin(prob) ## pos of the min proba\n",
    "    if label_pred != te_y[i]:\n",
    "      miss += 1\n",
    "      print(\"MISS: pred {} ('{}') \\t expected {} ('{}')\" \\\n",
    "            .format(int(label_pred), \\\n",
    "                    speakers[int(label_pred)], \\\n",
    "                    int(te_y[i]), \\\n",
    "                    speakers[int(te_y[i])]))\n",
    "    else:\n",
    "      true += 1\n",
    "    \n",
    "  return true / n, miss"
   ]
  },
  {
   "cell_type": "code",
   "execution_count": 164,
   "metadata": {
    "colab": {
     "base_uri": "https://localhost:8080/",
     "height": 69
    },
    "colab_type": "code",
    "id": "LoHsViHgOQMx",
    "outputId": "20d08434-910b-4cbd-da80-c9f37a0c80b2"
   },
   "outputs": [
    {
     "name": "stdout",
     "output_type": "stream",
     "text": [
      "(400, 1, 50)\n",
      "(400,)\n",
      "(4, 1, 50)\n"
     ]
    }
   ],
   "source": [
    "print(X_test.shape)\n",
    "print(y_test.shape)\n",
    "print(ref.shape)"
   ]
  },
  {
   "cell_type": "code",
   "execution_count": 165,
   "metadata": {
    "colab": {
     "base_uri": "https://localhost:8080/",
     "height": 139
    },
    "colab_type": "code",
    "id": "hZ3oUzqCDGj9",
    "outputId": "8268642c-66ee-4658-eb40-f733d30d3a0b"
   },
   "outputs": [
    {
     "name": "stdout",
     "output_type": "stream",
     "text": [
      "MISS: pred 1 ('nicolas') \t expected 2 ('theo')\n",
      "MISS: pred 2 ('theo') \t expected 3 ('yweweler')\n",
      "MISS: pred 1 ('nicolas') \t expected 2 ('theo')\n",
      "MISS: pred 1 ('nicolas') \t expected 3 ('yweweler')\n",
      "MISS: pred 2 ('theo') \t expected 3 ('yweweler')\n",
      "MISS: pred 2 ('theo') \t expected 3 ('yweweler')\n",
      "MISS: pred 2 ('theo') \t expected 3 ('yweweler')\n"
     ]
    }
   ],
   "source": [
    "## we use X_test and y_test\n",
    "acc, nb_miss = pred_real(model, X_test, y_test, ref)"
   ]
  },
  {
   "cell_type": "code",
   "execution_count": 166,
   "metadata": {
    "colab": {
     "base_uri": "https://localhost:8080/",
     "height": 52
    },
    "colab_type": "code",
    "id": "JIkNt4p8Dami",
    "outputId": "2abe36fa-7d66-40c1-e493-c6e36dea6306"
   },
   "outputs": [
    {
     "name": "stdout",
     "output_type": "stream",
     "text": [
      "0.9825\n",
      "7\n"
     ]
    }
   ],
   "source": [
    "print(acc)\n",
    "print(nb_miss)"
   ]
  },
  {
   "cell_type": "code",
   "execution_count": 0,
   "metadata": {
    "colab": {},
    "colab_type": "code",
    "id": "74CuzeqETpn1"
   },
   "outputs": [],
   "source": []
  }
 ],
 "metadata": {
  "colab": {
   "name": "Siamese_mnist_speaker",
   "provenance": []
  },
  "kernelspec": {
   "display_name": "Python 3",
   "language": "python",
   "name": "python3"
  },
  "language_info": {
   "codemirror_mode": {
    "name": "ipython",
    "version": 3
   },
   "file_extension": ".py",
   "mimetype": "text/x-python",
   "name": "python",
   "nbconvert_exporter": "python",
   "pygments_lexer": "ipython3",
   "version": "3.8.1"
  }
 },
 "nbformat": 4,
 "nbformat_minor": 1
}
